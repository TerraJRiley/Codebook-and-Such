{
 "cells": [
  {
   "cell_type": "markdown",
   "metadata": {},
   "source": [
    "## Problem Statement/Goal\n",
    " - The marketing ops team sent over this spreadsheet containing four years of data from a CRM system (please make a copy of the spreadsheet in order to manipulate the data): https://docs.google.com/spreadsheets/d/16hLtx8bBDe2GS1MOa3v9hY6Yhm4C30koLoCpiIJ5WDg/edit?usp=sharing. \n",
    "\n",
    "The team wants to find the month they're likely to contact the most clients, so they can schedule a product upgrade announcement. Which month does the team tend to contact the greatest percentage of its clients?\n",
    "\n",
    "(In addition to providing an answer, please either include a public link to a spreadsheet showing your work, or describe your process for answering the question.)"
   ]
  },
  {
   "cell_type": "markdown",
   "metadata": {},
   "source": [
    "## Imports"
   ]
  },
  {
   "cell_type": "code",
   "execution_count": 2,
   "metadata": {},
   "outputs": [],
   "source": [
    "import pandas as pd\n",
    "import matplotlib.pyplot as plt\n",
    "import seaborn as sns\n",
    "import numpy as np\n",
    "%matplotlib inline\n",
    "\n",
    "from sklearn.model_selection import train_test_split"
   ]
  },
  {
   "cell_type": "markdown",
   "metadata": {},
   "source": [
    "## Data Collection"
   ]
  },
  {
   "cell_type": "code",
   "execution_count": 3,
   "metadata": {},
   "outputs": [],
   "source": [
    "df = pd.read_csv('./data/HireArt_Data.csv')"
   ]
  },
  {
   "cell_type": "markdown",
   "metadata": {},
   "source": [
    "## Initial Viewing of Data"
   ]
  },
  {
   "cell_type": "markdown",
   "metadata": {},
   "source": [
    "## Cleaning"
   ]
  },
  {
   "cell_type": "markdown",
   "metadata": {},
   "source": [
    "## Exploritory Data Analysis"
   ]
  },
  {
   "cell_type": "markdown",
   "metadata": {},
   "source": [
    "## Modeling"
   ]
  },
  {
   "cell_type": "markdown",
   "metadata": {},
   "source": [
    "#### Imports & Initiations"
   ]
  },
  {
   "cell_type": "markdown",
   "metadata": {},
   "source": [
    "#### Historical Lists of Features & Their Results"
   ]
  },
  {
   "cell_type": "markdown",
   "metadata": {},
   "source": [
    "# Laboritory!\n",
    " - The place for all the code that I'm currently working on.  \n",
    " - This is to keep the rest of the notebook clean."
   ]
  },
  {
   "cell_type": "code",
   "execution_count": 11,
   "metadata": {},
   "outputs": [
    {
     "data": {
      "text/html": [
       "<div>\n",
       "<style scoped>\n",
       "    .dataframe tbody tr th:only-of-type {\n",
       "        vertical-align: middle;\n",
       "    }\n",
       "\n",
       "    .dataframe tbody tr th {\n",
       "        vertical-align: top;\n",
       "    }\n",
       "\n",
       "    .dataframe thead th {\n",
       "        text-align: right;\n",
       "    }\n",
       "</style>\n",
       "<table border=\"1\" class=\"dataframe\">\n",
       "  <thead>\n",
       "    <tr style=\"text-align: right;\">\n",
       "      <th></th>\n",
       "      <th>Account manager</th>\n",
       "      <th>Client Name</th>\n",
       "      <th>Date of Contact</th>\n",
       "    </tr>\n",
       "  </thead>\n",
       "  <tbody>\n",
       "    <tr>\n",
       "      <th>0</th>\n",
       "      <td>Milan Crona</td>\n",
       "      <td>Wyman, Farrell and Haag</td>\n",
       "      <td>2015-10-31</td>\n",
       "    </tr>\n",
       "    <tr>\n",
       "      <th>1</th>\n",
       "      <td>Aidan Pouros</td>\n",
       "      <td>Veum, McClure and Schuster</td>\n",
       "      <td>2013-12-15</td>\n",
       "    </tr>\n",
       "    <tr>\n",
       "      <th>2</th>\n",
       "      <td>Aidan Pouros</td>\n",
       "      <td>Veum, McClure and Schuster</td>\n",
       "      <td>2013-12-07</td>\n",
       "    </tr>\n",
       "    <tr>\n",
       "      <th>3</th>\n",
       "      <td>Milan Crona</td>\n",
       "      <td>Armstrong Group</td>\n",
       "      <td>2013-11-02</td>\n",
       "    </tr>\n",
       "    <tr>\n",
       "      <th>4</th>\n",
       "      <td>Aidan Pouros</td>\n",
       "      <td>Lueilwitz, Moore and Hahn</td>\n",
       "      <td>2013-12-25</td>\n",
       "    </tr>\n",
       "  </tbody>\n",
       "</table>\n",
       "</div>"
      ],
      "text/plain": [
       "  Account manager                 Client Name Date of Contact\n",
       "0     Milan Crona     Wyman, Farrell and Haag      2015-10-31\n",
       "1    Aidan Pouros  Veum, McClure and Schuster      2013-12-15\n",
       "2    Aidan Pouros  Veum, McClure and Schuster      2013-12-07\n",
       "3     Milan Crona             Armstrong Group      2013-11-02\n",
       "4    Aidan Pouros   Lueilwitz, Moore and Hahn      2013-12-25"
      ]
     },
     "execution_count": 11,
     "metadata": {},
     "output_type": "execute_result"
    }
   ],
   "source": [
    "df.head()"
   ]
  },
  {
   "cell_type": "code",
   "execution_count": 4,
   "metadata": {},
   "outputs": [],
   "source": [
    "def map_function(row):\n",
    "    return row[0:4]\n",
    "df['year'] = df['Date of Contact'].map(lambda x: map_function(x))"
   ]
  },
  {
   "cell_type": "code",
   "execution_count": 5,
   "metadata": {},
   "outputs": [],
   "source": [
    "def map_function(row):\n",
    "    return row[8:]\n",
    "df['day'] = df['Date of Contact'].map(lambda x: map_function(x))"
   ]
  },
  {
   "cell_type": "code",
   "execution_count": 6,
   "metadata": {},
   "outputs": [],
   "source": [
    "def map_function(row):\n",
    "    return row[5:7]\n",
    "df['month'] = df['Date of Contact'].map(lambda x: map_function(x))"
   ]
  },
  {
   "cell_type": "code",
   "execution_count": 21,
   "metadata": {},
   "outputs": [
    {
     "data": {
      "text/plain": [
       "'31'"
      ]
     },
     "execution_count": 21,
     "metadata": {},
     "output_type": "execute_result"
    }
   ],
   "source": [
    "df['Date of Contact'][0][8:]"
   ]
  },
  {
   "cell_type": "code",
   "execution_count": 20,
   "metadata": {},
   "outputs": [
    {
     "data": {
      "text/plain": [
       "'10'"
      ]
     },
     "execution_count": 20,
     "metadata": {},
     "output_type": "execute_result"
    }
   ],
   "source": [
    "df['Date of Contact'][0][5:7]"
   ]
  },
  {
   "cell_type": "code",
   "execution_count": 7,
   "metadata": {},
   "outputs": [
    {
     "data": {
      "text/plain": [
       "10    213\n",
       "09    121\n",
       "08     79\n",
       "06     77\n",
       "12     77\n",
       "05     69\n",
       "07     66\n",
       "11     65\n",
       "02     64\n",
       "01     60\n",
       "03     58\n",
       "04     52\n",
       "Name: month, dtype: int64"
      ]
     },
     "execution_count": 7,
     "metadata": {},
     "output_type": "execute_result"
    }
   ],
   "source": [
    "df['month'].value_counts()"
   ]
  },
  {
   "cell_type": "code",
   "execution_count": 8,
   "metadata": {
    "collapsed": true
   },
   "outputs": [
    {
     "data": {
      "text/plain": [
       "19    44\n",
       "23    40\n",
       "13    40\n",
       "18    40\n",
       "25    40\n",
       "14    39\n",
       "11    38\n",
       "20    37\n",
       "04    37\n",
       "05    37\n",
       "26    36\n",
       "27    35\n",
       "08    35\n",
       "12    34\n",
       "06    34\n",
       "17    33\n",
       "24    32\n",
       "21    31\n",
       "16    30\n",
       "03    30\n",
       "10    30\n",
       "28    29\n",
       "29    27\n",
       "30    27\n",
       "07    26\n",
       "01    26\n",
       "02    25\n",
       "22    24\n",
       "09    24\n",
       "15    21\n",
       "31    20\n",
       "Name: day, dtype: int64"
      ]
     },
     "execution_count": 8,
     "metadata": {},
     "output_type": "execute_result"
    }
   ],
   "source": [
    "df['day'].value_counts()"
   ]
  },
  {
   "cell_type": "code",
   "execution_count": 9,
   "metadata": {},
   "outputs": [
    {
     "data": {
      "text/plain": [
       "2014    264\n",
       "2015    251\n",
       "2016    240\n",
       "2017    147\n",
       "2013     99\n",
       "Name: year, dtype: int64"
      ]
     },
     "execution_count": 9,
     "metadata": {},
     "output_type": "execute_result"
    }
   ],
   "source": [
    "df['year'].value_counts()"
   ]
  },
  {
   "cell_type": "code",
   "execution_count": null,
   "metadata": {},
   "outputs": [],
   "source": [
    "plt.hist(df['day'])"
   ]
  },
  {
   "cell_type": "code",
   "execution_count": null,
   "metadata": {},
   "outputs": [],
   "source": []
  },
  {
   "cell_type": "code",
   "execution_count": null,
   "metadata": {},
   "outputs": [],
   "source": []
  },
  {
   "cell_type": "code",
   "execution_count": 7,
   "metadata": {},
   "outputs": [
    {
     "data": {
      "text/plain": [
       "0      2015-10-31\n",
       "1      2013-12-15\n",
       "2      2013-12-07\n",
       "3      2013-11-02\n",
       "4      2013-12-25\n",
       "5      2016-03-21\n",
       "6      2013-10-27\n",
       "7      2016-05-14\n",
       "8      2014-07-14\n",
       "9      2015-10-14\n",
       "10     2014-01-17\n",
       "11     2016-11-14\n",
       "12     2015-10-17\n",
       "13     2013-10-22\n",
       "14     2014-09-23\n",
       "15     2013-10-28\n",
       "16     2015-10-06\n",
       "17     2013-11-20\n",
       "18     2015-02-04\n",
       "19     2016-12-13\n",
       "20     2015-10-30\n",
       "21     2017-09-21\n",
       "22     2013-10-16\n",
       "23     2017-05-04\n",
       "24     2013-10-24\n",
       "25     2015-09-12\n",
       "26     2014-07-04\n",
       "27     2017-04-14\n",
       "28     2015-10-25\n",
       "29     2014-12-05\n",
       "          ...    \n",
       "971    2014-11-26\n",
       "972    2016-10-11\n",
       "973    2015-05-25\n",
       "974    2014-08-23\n",
       "975    2015-08-10\n",
       "976    2016-11-01\n",
       "977    2013-10-12\n",
       "978    2014-11-14\n",
       "979    2015-03-20\n",
       "980    2017-04-24\n",
       "981    2016-06-05\n",
       "982    2015-07-06\n",
       "983    2014-11-04\n",
       "984    2016-04-05\n",
       "985    2016-06-14\n",
       "986    2016-09-02\n",
       "987    2015-09-18\n",
       "988    2014-05-13\n",
       "989    2014-11-27\n",
       "990    2016-04-08\n",
       "991    2014-06-19\n",
       "992    2015-04-03\n",
       "993    2014-02-13\n",
       "994    2015-08-13\n",
       "995    2013-12-23\n",
       "996    2014-04-13\n",
       "997    2016-09-16\n",
       "998    2015-03-21\n",
       "999    2017-09-27\n",
       "1000   2017-06-16\n",
       "Name: Date of Contact, Length: 1001, dtype: datetime64[ns]"
      ]
     },
     "execution_count": 7,
     "metadata": {},
     "output_type": "execute_result"
    }
   ],
   "source": [
    "#df['Date of Contact'].\n",
    "pd.to_datetime(df['Date of Contact'])"
   ]
  },
  {
   "cell_type": "code",
   "execution_count": null,
   "metadata": {},
   "outputs": [],
   "source": []
  },
  {
   "cell_type": "code",
   "execution_count": null,
   "metadata": {},
   "outputs": [],
   "source": []
  },
  {
   "cell_type": "code",
   "execution_count": null,
   "metadata": {},
   "outputs": [],
   "source": []
  },
  {
   "cell_type": "code",
   "execution_count": null,
   "metadata": {},
   "outputs": [],
   "source": []
  },
  {
   "cell_type": "code",
   "execution_count": null,
   "metadata": {},
   "outputs": [],
   "source": []
  },
  {
   "cell_type": "code",
   "execution_count": null,
   "metadata": {},
   "outputs": [],
   "source": []
  },
  {
   "cell_type": "markdown",
   "metadata": {},
   "source": [
    "## Code Recycling Bin\n",
    "- For when I'm not sure I'm ready to delete some old code yet."
   ]
  },
  {
   "cell_type": "code",
   "execution_count": null,
   "metadata": {},
   "outputs": [],
   "source": []
  },
  {
   "cell_type": "code",
   "execution_count": null,
   "metadata": {},
   "outputs": [],
   "source": []
  }
 ],
 "metadata": {
  "kernelspec": {
   "display_name": "Python 3",
   "language": "python",
   "name": "python3"
  },
  "language_info": {
   "codemirror_mode": {
    "name": "ipython",
    "version": 3
   },
   "file_extension": ".py",
   "mimetype": "text/x-python",
   "name": "python",
   "nbconvert_exporter": "python",
   "pygments_lexer": "ipython3",
   "version": "3.7.0"
  }
 },
 "nbformat": 4,
 "nbformat_minor": 2
}
