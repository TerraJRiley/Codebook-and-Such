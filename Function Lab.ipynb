{
 "cells": [
  {
   "cell_type": "code",
   "execution_count": null,
   "metadata": {},
   "outputs": [],
   "source": []
  },
  {
   "cell_type": "markdown",
   "metadata": {},
   "source": [
    "# Data Functions:"
   ]
  },
  {
   "cell_type": "code",
   "execution_count": 2,
   "metadata": {},
   "outputs": [],
   "source": [
    "def drop_percent(df):\n",
    "    total_rows,total_columns = df.shape\n",
    "    dropped_rows, dropped_columns = df.dropna().shape\n",
    "    return\"Percentage of rows remaining, post-drop = {}\".format(dropped_rows/total_rows)"
   ]
  },
  {
   "cell_type": "code",
   "execution_count": null,
   "metadata": {},
   "outputs": [],
   "source": [
    "# This is meerly the starter code.  Use this as a jumping off point.\n",
    "def clean(df):\n",
    "    df_cleaned = df.drop(['Alley','Fireplace Qu','Pool QC','Fence','Misc Feature'], axis = 1)\n",
    "    df_cleaned.fillna(0, inplace=True)\n",
    "    df_cleaned = pd.get_dummies(df_cleaned)\n",
    "    return df_cleaned"
   ]
  },
  {
   "cell_type": "code",
   "execution_count": null,
   "metadata": {},
   "outputs": [],
   "source": [
    "# Print pairplots with just the target\n",
    "sns.pairplot(data=train_df,\n",
    "            x_vars=['Loan_Status_Y'],\n",
    "            y_vars=['ApplicantIncome', 'CoapplicantIncome', 'LoanAmount',\n",
    "       'Loan_Amount_Term', 'Credit_History', 'Gender_Female', 'Married_Yes',\n",
    "       'Dependents_1', 'Dependents_2', 'Dependents_3+', 'Education_Graduate',\n",
    "       'Self_Employed_Yes', 'Property_Area_Rural', 'Property_Area_Semiurban',\n",
    "       'Property_Area_Urban'],size=5)"
   ]
  },
  {
   "cell_type": "code",
   "execution_count": null,
   "metadata": {},
   "outputs": [],
   "source": [
    "def target_pairplots(df, target, list_of_variables, size = 10):\n",
    "    return sns.pairplot(data   = df,\n",
    "                        x_vars = [target],\n",
    "                        y_vars = list_of_variables, \n",
    "                        height = size);"
   ]
  },
  {
   "cell_type": "code",
   "execution_count": null,
   "metadata": {},
   "outputs": [],
   "source": []
  },
  {
   "cell_type": "code",
   "execution_count": null,
   "metadata": {},
   "outputs": [],
   "source": []
  },
  {
   "cell_type": "code",
   "execution_count": null,
   "metadata": {},
   "outputs": [],
   "source": []
  },
  {
   "cell_type": "code",
   "execution_count": null,
   "metadata": {},
   "outputs": [],
   "source": []
  },
  {
   "cell_type": "code",
   "execution_count": null,
   "metadata": {},
   "outputs": [],
   "source": []
  },
  {
   "cell_type": "code",
   "execution_count": null,
   "metadata": {},
   "outputs": [],
   "source": []
  },
  {
   "cell_type": "code",
   "execution_count": null,
   "metadata": {},
   "outputs": [],
   "source": []
  },
  {
   "cell_type": "code",
   "execution_count": null,
   "metadata": {},
   "outputs": [],
   "source": []
  },
  {
   "cell_type": "code",
   "execution_count": null,
   "metadata": {},
   "outputs": [],
   "source": []
  },
  {
   "cell_type": "code",
   "execution_count": null,
   "metadata": {},
   "outputs": [],
   "source": []
  },
  {
   "cell_type": "code",
   "execution_count": null,
   "metadata": {},
   "outputs": [],
   "source": []
  },
  {
   "cell_type": "markdown",
   "metadata": {},
   "source": [
    "# Time"
   ]
  },
  {
   "cell_type": "code",
   "execution_count": null,
   "metadata": {},
   "outputs": [],
   "source": [
    "class task:\n",
    "    def start(task = 'string'):\n",
    "        if #clock counting\n",
    "            #print(you already started it, chick)\n",
    "            #return \"you are currently working on:\" task\n",
    "        #begin clock count\n",
    "        \n",
    "    def check:\n",
    "        return #current time spent on task\n",
    "    \n",
    "    def stop:\n",
    "        #stops clock\n",
    "        return #start time - stop time"
   ]
  },
  {
   "cell_type": "markdown",
   "metadata": {},
   "source": [
    "# Feelings"
   ]
  },
  {
   "cell_type": "code",
   "execution_count": 1,
   "metadata": {},
   "outputs": [],
   "source": [
    "def Authenticity():\n",
    "    print(\"What somebody thinks of us is none of our business.\")\n",
    "    print(\"Present yourself in the way that'll best represent blah blah\")"
   ]
  },
  {
   "cell_type": "code",
   "execution_count": null,
   "metadata": {},
   "outputs": [],
   "source": [
    "def anxiety():\n",
    "    dice = random.randrange(2,11)\n",
    "    #print(dice)\n",
    "    if dice == 2:\n",
    "        return \"All the other Terras love you. <3\"\n",
    "    if dice == 3:\n",
    "        return \"Eat an elephant one bite at a time\"\n",
    "    if dice == 4:\n",
    "        return \"It's not about how smart you are, but how much fight you put in\"\n",
    "    if dice == 5:\n",
    "        return \"It's their fault, but you're strong enough to move forward\"\n",
    "    if dice == 6:\n",
    "        return \"You're perfect how you are and you're going to get better with the more effort you put in\"\n",
    "    if dice == 7:\n",
    "        return \"You're loved by people not around you.\"\n",
    "    if dice == 8:\n",
    "        return \"Mistakes and failure are the backbone of education\"\n",
    "    if dice == 9:\n",
    "        return \"This does not control you.  You're stronger that you realize\"\n",
    "    if dice == 10:\n",
    "        return \"You're going at a good rate\"\n",
    "    else:\n",
    "        print(\"A wild LEARNING EXPIERENCE appeared!\")\n",
    "\n",
    "anxiety()"
   ]
  },
  {
   "cell_type": "code",
   "execution_count": null,
   "metadata": {},
   "outputs": [],
   "source": [
    "def depression():\n",
    "    print(\"feel yourself (ha) and what does Indy have to say?\")\n",
    "    if dice == \n",
    "        return \"that's a valid and unfortunate way to feel\"\n",
    "        return \"Lets plan to have a second to really think about all that\"\n",
    "    \"It's just a feeling.  Practice focusing on class. <3\"\n",
    "depression()\n",
    "\n",
    "if depression:\n",
    "    look for nearest time to take a moment and think about whatever is on our mind.\n",
    "    ensure Indy can speak as much and often as she wishes."
   ]
  },
  {
   "cell_type": "code",
   "execution_count": null,
   "metadata": {},
   "outputs": [],
   "source": [
    "def ifeeldumb():\n",
    "    dice = random.randrange(2,6)\n",
    "    #print(dice)\n",
    "    if dice == 2:\n",
    "        return \"Good! You'll actually remmeber things better!\"\n",
    "    if dice == 3:\n",
    "        return \"Isn't that better than being bored, tho!? :D Hella exciting\"\n",
    "    if dice == 4:\n",
    "        return \"Asking questions is good!  It's what Souma did! :D\"\n",
    "    if dice == 5:\n",
    "        return \"SO WOULD GOKU FEEL WHILE STAIRING AT SAITAMA.\"\n",
    "    if dice == 6:\n",
    "        return \"\"\n",
    "    else:\n",
    "        print(\"A wild LEARNING EXPIERENCE appeared!\")"
   ]
  },
  {
   "cell_type": "code",
   "execution_count": null,
   "metadata": {},
   "outputs": [],
   "source": [
    "def whatarewelikewithoutdepression\n",
    "\"Without depression, we ask a lot of questions\"\n",
    "\"We're at our most independent\"\n",
    "\"We can focus on ourselves and others at appropriate times\""
   ]
  }
 ],
 "metadata": {
  "kernelspec": {
   "display_name": "Python [conda env:dsi]",
   "language": "python",
   "name": "conda-env-dsi-py"
  },
  "language_info": {
   "codemirror_mode": {
    "name": "ipython",
    "version": 3
   },
   "file_extension": ".py",
   "mimetype": "text/x-python",
   "name": "python",
   "nbconvert_exporter": "python",
   "pygments_lexer": "ipython3",
   "version": "3.6.5"
  }
 },
 "nbformat": 4,
 "nbformat_minor": 2
}
