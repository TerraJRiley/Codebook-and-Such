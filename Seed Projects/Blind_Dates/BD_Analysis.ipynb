{
 "cells": [
  {
   "cell_type": "markdown",
   "metadata": {},
   "source": [
    "## Problem Statement/Goal\n",
    " - "
   ]
  },
  {
   "cell_type": "markdown",
   "metadata": {},
   "source": [
    "|Num|Full Option Text                          |Shortened Text|\n",
    "|---|------------------------------------------|--------------|\n",
    "|2  |This is a positive for me                 |positive      |\n",
    "|1  |This is a turn off, but not a deal breaker|turn_off      |\n",
    "|0  |This makes no difference to me            |no_diff       |\n",
    "|-1 |This is a deal breaker                    |deal_breaker  |"
   ]
  },
  {
   "cell_type": "markdown",
   "metadata": {},
   "source": [
    "## Imports"
   ]
  },
  {
   "cell_type": "code",
   "execution_count": 1,
   "metadata": {},
   "outputs": [],
   "source": [
    "import pandas as pd\n",
    "import matplotlib.pyplot as plt\n",
    "import seaborn as sns\n",
    "import numpy as np\n",
    "%matplotlib inline\n",
    "\n",
    "from sklearn.model_selection import train_test_split"
   ]
  },
  {
   "cell_type": "markdown",
   "metadata": {},
   "source": [
    "## Data Collection"
   ]
  },
  {
   "cell_type": "code",
   "execution_count": 2,
   "metadata": {},
   "outputs": [],
   "source": [
    "df = pd.read_csv('./data/Cleaned_Data.csv')"
   ]
  },
  {
   "cell_type": "markdown",
   "metadata": {},
   "source": [
    "## Initial Viewing of Data"
   ]
  },
  {
   "cell_type": "code",
   "execution_count": null,
   "metadata": {},
   "outputs": [],
   "source": []
  },
  {
   "cell_type": "markdown",
   "metadata": {},
   "source": [
    "## Cleaning"
   ]
  },
  {
   "cell_type": "markdown",
   "metadata": {},
   "source": [
    "## Exploritory Data Analysis"
   ]
  },
  {
   "cell_type": "markdown",
   "metadata": {},
   "source": [
    "## Modeling"
   ]
  },
  {
   "cell_type": "markdown",
   "metadata": {},
   "source": [
    "#### Imports & Initiations"
   ]
  },
  {
   "cell_type": "markdown",
   "metadata": {},
   "source": [
    "#### Historical Lists of Features & Their Results"
   ]
  },
  {
   "cell_type": "markdown",
   "metadata": {},
   "source": [
    "# Laboritory!\n",
    " - The place for all the code that I'm currently working on.  \n",
    " - This is to keep the rest of the notebook clean."
   ]
  },
  {
   "cell_type": "code",
   "execution_count": 5,
   "metadata": {},
   "outputs": [
    {
     "data": {
      "text/plain": [
       "array(['This is a turn off, but not a deal breaker',\n",
       "       'This makes no difference to me', 'This is a deal breaker',\n",
       "       'This is a positive for me'], dtype=object)"
      ]
     },
     "execution_count": 5,
     "metadata": {},
     "output_type": "execute_result"
    }
   ],
   "source": [
    "df['Shorter'].unique()"
   ]
  },
  {
   "cell_type": "code",
   "execution_count": null,
   "metadata": {},
   "outputs": [],
   "source": [
    "num_translator = {\n",
    "    'This is a positive for me'                  :2,\n",
    "    'This is a turn off, but not a deal breaker' :1,\n",
    "    'This makes no difference to me'             :0,\n",
    "    'This is a deal breaker'                     :-1}\n",
    "shortened_translator = {\n",
    "    'This is a positive for me'                  : 'positive',\n",
    "    'This is a turn off, but not a deal breaker' : 'turn_off',\n",
    "    'This makes no difference to me'             : 'no_diff',\n",
    "    'This is a deal breaker'                     : 'deal_breaker'}"
   ]
  },
  {
   "cell_type": "code",
   "execution_count": null,
   "metadata": {},
   "outputs": [],
   "source": []
  },
  {
   "cell_type": "code",
   "execution_count": null,
   "metadata": {},
   "outputs": [],
   "source": []
  },
  {
   "cell_type": "code",
   "execution_count": null,
   "metadata": {},
   "outputs": [],
   "source": []
  },
  {
   "cell_type": "code",
   "execution_count": null,
   "metadata": {},
   "outputs": [],
   "source": []
  },
  {
   "cell_type": "code",
   "execution_count": null,
   "metadata": {},
   "outputs": [],
   "source": []
  },
  {
   "cell_type": "markdown",
   "metadata": {},
   "source": [
    "## Code Recycling Bin\n",
    "- For when I'm not sure I'm ready to delete some old code yet."
   ]
  },
  {
   "cell_type": "code",
   "execution_count": null,
   "metadata": {},
   "outputs": [],
   "source": []
  },
  {
   "cell_type": "markdown",
   "metadata": {},
   "source": [
    "City College of San Francisco\n",
    "Positive and Deal Breaking Attributes in Blind Dates\n",
    "\n",
    "Terra July Riley\n",
    "Sociology 1\n",
    "Prof. Ancheta\n",
    "12/13/16\n",
    "\n",
    "\n",
    "## Abstract\n",
    "56 sociology and psychology students were asked about specific dating preferences regarding individuals with certain qualities when introduced to them in a blind date context, while first given the assumption that they find their blind dates physically attractive and enjoy the company of said dates.  The qualities are being 1 foot shorter, one foot taller, being transgender, being A-sexual, not being along the gender binary, and being A-romantic.\n",
    "\n",
    "## Introduction\n",
    "The idea for the research topic was born of the researcher’s own frustrations with dating sites and dating applications.  She noticed a difference between the number of responses she would receive from other women when she did and did not disclose that she is transgender.  When she disclosed it seemed as though she received a significantly less responses and much less interest from other women and than when she didn’t disclose on her profile, but informed a woman while in a private conversation it seemed as though the majority of women would stop responding or back out of the conversation as politely as possible.  When mentioning her woes to friends she would sometimes have her concerns of this phenomena explained away and minimized.  Thus she wanted to see if there really was a correlation between peoples’ dating preferences and whether or not a person is transgender.  This study further expands on this question by inquiring about other situations in which one may or may not lose interest in another individual, given other circumstances, such as height differences, certain sexual preferences and gender statuses.  All while asking the participant to first presume that the people that they are on a blind date with are attractive by their standards and a generally pleasant individual.  The survey is important because it can help to enlighten the dating preferences of certain groups and assist people within certain categories addressed in the study to understand the severity of the penalties and privileges they may face within the dating world.\n",
    "\n",
    "## Methods\n",
    "The survey started by saying “Your good and very helpful friend has set you up on a series of blind dates.”  For each of the first 6 question the choice options were “This is a deal breaker”, “This is a turn off, but not a deal breaker”, “This makes no difference to me”, “This is a positive for me” and “Other” the last of which would allow people the opportunity to type in a further response. The first two questions were stated as follows:\n",
    "1.) When it comes time to meet your 1st blind date you find that your date is a foot shorter than you. How does this influence your feelings about your date?\n",
    "2.) When you're set up on your 2nd blind date, you find that your date is a foot taller than you. How does this influence your feeling about your date?\n",
    "\n",
    "After these questions were asked the users were directed to a second page which, in the description, read “For each of the following blind dates, please presume that you find your date very physically attractive.  Furthermore, the date itself is going wonderfully and you're really hitting it off with each of these individuals.” With the questions in the section reading as follows:\n",
    "3.) During your 3rd blind date, towards the end of the meal, you suggest possibly returning to your (or your date's) home to continue the date.  It is at this point that your date discloses that they are transgender.  They continue by explaining that they've fully transitioned in every way, except that they have not and will not be undergoing any surgeries that involve their genitals.  How does this influence your feelings about your date?\n",
    "4.) On your 4th blind date your date discloses that they are A-sexual.  They continue to explain that they are romantically interested in you and would very much like to go on more dates with you, but doesn't ever want to have a sexual relationship with you or anybody else, ever.  How does this influence your feelings about your date?\n",
    "5.) During your 5th blind date, your conversation turns to gender and your date informs you that they do not identify as either male or female and ask that you use \"they/them\" pronouns when referring to them. How does this influence your feelings about your date?\n",
    "6.) On your 6th blind date your date discloses that they are A-romantic.  They continue by explaining that they're not interested in the romantic aspects of relationships, but would be interested in exploring a sexual relationship with you.  (This person would still be a friend of yours)  How does this influence your feelings about your date?\n",
    "\n",
    "Finally, the last page aside from the confirmation page is on demographics the questions with their possible responses are as follows:\n",
    "7.) Age\n",
    "[Space to type a short response]\n",
    "8.) Sexuality\n",
    " - Heterosexual\n",
    " - Homosexual\n",
    " - Bisexual or Pansexual\n",
    " - Other [space to type further]\n",
    "9.) Gender\n",
    " - Female\n",
    " - Male\n",
    " - Neither/Both/Other\n",
    "10.) Race\n",
    " - Asian or pacific islander\n",
    " - Black\n",
    " - Latin(o/a)\n",
    " - Middle Eastern\n",
    " - White\n",
    " - Other [space to type further]\n",
    "\n",
    "    The study was distributed to 56 Psychology 2 (Research methods) and Sociology 1 (Intro to Sociology) students who were mostly given the study as an opportunity for extra credit in their class.  Most students were within the age range of 18 to 20 with 22 students reporting to be in this range. Otherwise there were 14 people between the age of 21 and 25, 8 within the age of 26 and 30, and 6 identifying as 31 or over.  43 of the students identified as Heterosexual, 4 as homosexual, 8 as Bisexual or Pansexual and 1 as Questioning.  37 of the participants identify as female and 18 as male.  No participants identified as any gender representation other than male or female. Within the total of the 56 participants, 20 identified as Asian or Pacific Islander, 2 as Black, 11 a Latinx, 2 as Middle Eastern, 12 as White, 7 as mixed race and 1 did not say.\n",
    "\n",
    "### Findings\n",
    "    Most of the data acquired fell within the expected range of what the researcher expected.  In the instances in which an individual chose “Other” and filled in a response which was similar enough to another response the researcher counted said response as if study participant had answered one of the other questions with an answer that their original response mimicked.  \n",
    "This answer was then counted with the rest of the responses.   The times in which somebody responded in a way that could have been absorbed by the statistics of the other responses are mentioned below.\n",
    "|Question      |Deal Breaker |Turn Off |No Difference |Positive |Other |\n",
    "|--------------|-------------|---------|--------------|---------|------|\n",
    "|1 ft. Shorter |26.8%        |32.1%    |32.1%         |7.1%     |1.8%  |\n",
    "|1 ft. Taller  |12.5%        |16.1%    |33.9%         |33.9%    |3.6%  |\n",
    "|Transgender   |53.6%        |23.2%    |19.6%         |0        |3.6%  |\n",
    "|A-Sexual      |57.1%        |19.6%    |21.4%         |0        |1.8%  |\n",
    "|They/Them     |39.3%        |19.6%    |35.7%         |1.8%     |3.6%  |\n",
    "|A-Romantic    |41.8%        |20%      |18.2%         |14.5%    |5.5%  |\n",
    "\n",
    "### Notable Findings\n",
    "1.) 1 ft. Shorter\n",
    "    a.) Nearly ⅓ found this to be a turnoff, but not a deal breaker and\n",
    "        i.) All but 2 of which reported as female.\n",
    "        ii.) A little over ½ of the those who identified as bisexual women chose this.\n",
    "    b.) Another ⅓ felt that this made no difference.  Just over half of those who identified as male chose this.\n",
    "    c.) All but three of those who felt it was a deal breaker were female.\n",
    "    d.) 7.1% saw this as a positive.\n",
    "        i.) All four of whom were male and heterosexual.\n",
    "    e.) (See Findings 2.e.)\n",
    "1ft. Taller\n",
    "    a.) ⅓ saw this as making no difference.\n",
    "    b.) Another ⅓ saw this as a positive.\n",
    "        i.) Vast majority of whom were heterosexual females.\n",
    "        ii.) Those who were hetero females and chose this response where: 2 bisexual females, one questioning female, one homosexual male and the one person who didn’t report their gender.\n",
    "    c.) Only ⅛ of individuals saw this as a deal breaker.\n",
    "5 of the 7 of those who chose this were heterosexual males.\n",
    "One person chose “other” and stated “not sure”.\n",
    "It would appear that the majority of the findings around this question can be attributed to people's’ feelings around dating certain genders.  It is more preferable for a man to be taller than a woman than the other way around.  With the majority of the benefit going to tall men being more attractive to women than short women who aren’t as commonly being found as attractive by most men.\n",
    "Transgender\n",
    "Second biggest deal breaker with 53.6%. (See Notable Findings 4.c.)\n",
    "All but 2 of which said reported as heterosexual.\n",
    "Nobody found this to be a positive.\n",
    "Half of the bisexual women saw this as making no difference.\n",
    "One person chose “other” and stated “this would be a surprise to me. Not a dealbreaker”.\n",
    "A-Sexual\n",
    "This was the biggest deal breaker of all the questions asked at 57.1% of those who answered the question.\n",
    "Nobody found this to be a positive.\n",
    "The fact that this had the largest number of people feeling that this would be a deal breaker with an individual being transgender being the second highest with very little difference in percentages suggests that sex is very important to people who want to have sex. However, these close numbers can’t fully be explained by that alone because only about half of the people who said that it would be a deal breaker for their date to be transgender also said that it would be a deal breaker if their date was A-sexual.  The other (roughly 12) people chose Deal Breaker for one question and either Turn off or No Difference for the other.  In this case we must presume that differing opinions and views around trans people and A-sexual people can account for the majority of the cause for the inconsistency.\n",
    "They/Them\n",
    "39.3% felt this would be a Deal Breaker.\n",
    "One individual commented “to much mental work”.\n",
    "Most of whom were heterosexual.\n",
    "It’s very possible that these individuals aren’t use to non-binary people in their lives and thus aren’t as use to needing to change their language when using another person’s pronouns, thus the need to put that effort in would result in the other person’s gender identity being a deal breaker.\n",
    "35.7% felt that this made no difference.\n",
    "The 1 person who saw this as a positive was a 26 year old, hetersexual female latina.  The researcher has yet to find an explanation for this person feeling as thought it would be a positive.  It could be that they have a positive view of people who are not on the gender binary.  It could have been chosen by accident.  Further studying would be required to find out more on this.\n",
    "The same person who chose “other” and stated “not sure” in the question about one’s date being one foot taller did the same on this question.  It is highly likely that this individual is more comfortable stating that they are unsure of how they would feel about something than that majority of those who took the study.\n",
    "A-Romantic\n",
    "Two people said it would depend on the person and/or the relationship\n",
    "Those who found this as a positive were half female and half male and all of whom were heterosexual.\n",
    "One of the very few hypotheses for the study was that those who would be interested in the A-romantic individual would primarily have been men.  This was not entirely true as it turned out that of the 8 participants who found this to be a positive attribute, half were female and half were male.  When questioning others about this phenomena the researcher was informed that in the case of heterosexual women, one might desire to have a sexual relationship with “no strings attached” but what tends to happen is that the men they attempt this with actually do start wanting to have a romantic relationship.  Thus, if one is a heterosexual female looking for a relationship with a friend that includes sex, it would be more stable if the individual was A-romantic.\n",
    "Majority of those who found this to be a deal breaker were female.\n",
    "Over ⅔’s of those who said that this would be a deal breaker also said that being A-sexual would be a deal breaker.\n",
    "Negative Case\n",
    "One individual refused to respond to any of the questions involving the blind dates and instead chose “other” and in the short answer space explained that she did not like blind dates, at all.\n",
    "\n",
    "Conclusions\n",
    "These findings are important because they can help to validate the experiences that people within these demographics experience and to what degree.  This can then help those people feel less like the difficulties that they’re facing aren’t simply in their perceptions but also truly reflected in the reality of the world.\n",
    "Limitations of the survey include the fact that the sample size was still relatively small, thus one could not truly say many significant statements about groups of people who aren’t heterosexual, female or of any one, specific, race.  Furthermore, this study was on people who took either a sociology or psychology class and thus it is possible that they’ve brought biases inherent to those disciplines into the study.\n",
    "There are many ways in which the survey could be improved.  First it could alter the way the questions are asked by cutting out the “Other” option, thus forcing survey takers to give a value answer on the questions and instead allowing each question to have an “Additional comments” section after the multiple choice answers.  This would still give people the option to express any concerns, complications or feelings that they had with the questions, but would make it easier to keep track of the responses.  Additional questions might include asking about the possibility of dating a transgender individual who HAS undergone a surgery in which they have been given genitals which “match” their gender identity (this question would have to be carefully worded for multiple reasons).  Preferably, one could find a way to include questions of income, race, bisexuality and body weight into the survey, which would help to enlighten the survey on these topics.  Additional demographic questions could include one’s height, relationship status, income and attachment to a sex positive community to find further correlations as well as if the person identifies as either monogamous or polyamorous.  Future surveys should expand the options for sexuality to include “questioning” and other sexualities, as well as separating bisexual and Pansexual into their own options, especially if one suspects that they might give the survey to individuals who aren’t primarily heterosexual individuals.  The question regarding race should be made into a multiple choice question and have the option to add “Mixed” as one’s race.\n",
    "\n",
    "Appendix:\n",
    "Survey Title: Blind Dates\n",
    "Section 1 of 3\n",
    "Section Title: Blind Dates (part 1)\n",
    "Description: Your good and very helpful friend has set you up on a series of blind dates.\n",
    "Questions:\n",
    "When it comes time to meet your 1st blind date you find that your date is a foot shorter than you. How does this influence your feelings about your date?\n",
    "This is a deal breaker\n",
    "This is a turn off, but not a deal breaker\n",
    "This makes no difference to me\n",
    "This is a positive for me\n",
    "Other… [space to type further]\n",
    "When you're set up on your 2nd blind date, you find that your date is a foot taller than you. How does this influence your feeling about your date?\n",
    "This is a deal breaker\n",
    "This is a turn off, but not a deal breaker\n",
    "This makes no difference to me\n",
    "This is a positive for me\n",
    "Other… [space to type further]\\\n",
    "\n",
    "Section 2 of 3\n",
    "Section Title: Blind Date (part 2)\n",
    "Description: For each of the following blind dates, please presume that you find your date very physically attractive.  Furthermore, the date itself is going wonderfully and you're really hitting it off with each of these individuals.\n",
    "Questions:\n",
    "During you're 3rd blind date, towards the end of the meal, you suggest possibly returning to your (or your date's) home to continue the date.  It is at this point that your date discloses that they are transgender.  They continue by explaining that they've fully transitioned in every way, except that they have not and will not be undergoing any surgeries that involve their genitals.  How does this influence your feelings about your date?\n",
    "This is a deal breaker\n",
    "This is a turn off, but not a deal breaker\n",
    "This makes no difference to me\n",
    "This is a positive for me\n",
    "Other… [space to type further]\n",
    "On your 4th blind date your date discloses that they are A-sexual.  They continue to explain that they are romantically interested in you and would very much like to go on more dates with you, but doesn't ever want to have a sexual relationship with you or anybody else, ever.  How does this influence your feelings about your date?\n",
    "This is a deal breaker\n",
    "This is a turn off, but not a deal breaker\n",
    "This makes no difference to me\n",
    "This is a positive for me\n",
    "Other… [space to type further]\n",
    "During your 5th blind date, your conversation turns to gender and your date informs you that they do not identify as either male or female and ask that you use \"they/them\" pronouns when referring to them. How does this influence your feelings about your date?\n",
    "This is a deal breaker\n",
    "This is a turn off, but not a deal breaker\n",
    "This makes no difference to me\n",
    "This is a positive for me\n",
    "Other… [space to type further]\n",
    "On your 6th blind date your date discloses that they are A-romantic.  They continue by explaining that they're not interested in the romantic aspects of relationships, but would be interested in exploring a sexual relationship with you.  (This person would still be a friend of yours)  How does this influence your feelings about your date?\n",
    "\n",
    "Section 3 of 3\n",
    "Section Title Stuff About You!\n",
    "Description: (None)\n",
    "Questions:\n",
    "Age\n",
    "Space was provided to type in a short answer, which consisted of a number representing the individual's age.\n",
    "Sexuality\n",
    "Heterosexual\n",
    "Homosexual\n",
    "Bisexual or Pansexual\n",
    "Other… [space to type further]\n",
    "Gender\t\n",
    "Female\n",
    "Male\n",
    "Neither/Both/Other\n",
    "Race\n",
    "Asian or pacific Islander\n",
    "Black\n",
    "Latin(o/a)\n",
    "Middle Eastern\n",
    "Native American\n",
    "White\n",
    "Other… [space to type further]\n",
    "\n",
    "\n",
    "|Question      |Deal Breaker |Turn Off |No Difference |Positive |Other |\n",
    "|--------------|-------------|---------|--------------|---------|------|\n",
    "|1 ft. Shorter |26.8%        |32.1%    |32.1%         |7.1%     |1.8%  |\n",
    "|1 ft. Taller  |12.5%        |16.1%    |33.9%         |33.9%    |3.6%  |\n",
    "|Transgender   |53.6%        |23.2%    |19.6%         |0        |3.6%  |\n",
    "|A-Sexual      |57.1%        |19.6%    |21.4%         |0        |1.8%  |\n",
    "|They/Them     |39.3%        |19.6%    |35.7%         |1.8%     |3.6%  |\n",
    "|A-Romantic    |41.8%        |20%      |18.2%         |14.5%    |5.5%  |"
   ]
  },
  {
   "cell_type": "code",
   "execution_count": null,
   "metadata": {},
   "outputs": [],
   "source": []
  }
 ],
 "metadata": {
  "kernelspec": {
   "display_name": "Python 3",
   "language": "python",
   "name": "python3"
  },
  "language_info": {
   "codemirror_mode": {
    "name": "ipython",
    "version": 3
   },
   "file_extension": ".py",
   "mimetype": "text/x-python",
   "name": "python",
   "nbconvert_exporter": "python",
   "pygments_lexer": "ipython3",
   "version": "3.7.0"
  }
 },
 "nbformat": 4,
 "nbformat_minor": 2
}
