{
 "cells": [
  {
   "cell_type": "code",
   "execution_count": 1,
   "metadata": {},
   "outputs": [],
   "source": [
    "from bs4 import BeautifulSoup as bs\n",
    "import requests\n",
    "import pandas as pd"
   ]
  },
  {
   "cell_type": "markdown",
   "metadata": {},
   "source": [
    "### Step 1: Create a soup object from the home page"
   ]
  },
  {
   "cell_type": "code",
   "execution_count": 2,
   "metadata": {},
   "outputs": [
    {
     "name": "stdout",
     "output_type": "stream",
     "text": [
      "<Response [200]>\n"
     ]
    }
   ],
   "source": [
    "res = requests.get('http://chubbygrub.com')\n",
    "print(res)"
   ]
  },
  {
   "cell_type": "code",
   "execution_count": 30,
   "metadata": {
    "collapsed": true
   },
   "outputs": [
    {
     "ename": "TypeError",
     "evalue": "unhashable type: 'slice'",
     "output_type": "error",
     "traceback": [
      "\u001b[0;31m---------------------------------------------------------------------------\u001b[0m",
      "\u001b[0;31mTypeError\u001b[0m                                 Traceback (most recent call last)",
      "\u001b[0;32m<ipython-input-30-9b9e1343b973>\u001b[0m in \u001b[0;36m<module>\u001b[0;34m()\u001b[0m\n\u001b[1;32m      1\u001b[0m \u001b[0msoup\u001b[0m \u001b[0;34m=\u001b[0m \u001b[0mbs\u001b[0m\u001b[0;34m(\u001b[0m\u001b[0mres\u001b[0m\u001b[0;34m.\u001b[0m\u001b[0mcontent\u001b[0m\u001b[0;34m,\u001b[0m \u001b[0;34m'lxml'\u001b[0m\u001b[0;34m)\u001b[0m\u001b[0;34m\u001b[0m\u001b[0m\n\u001b[0;32m----> 2\u001b[0;31m \u001b[0mstr\u001b[0m\u001b[0;34m(\u001b[0m\u001b[0msoup\u001b[0m\u001b[0;34m[\u001b[0m\u001b[0;36m0\u001b[0m\u001b[0;34m:\u001b[0m\u001b[0;36m50\u001b[0m\u001b[0;34m]\u001b[0m\u001b[0;34m)\u001b[0m\u001b[0;34m\u001b[0m\u001b[0m\n\u001b[0m",
      "\u001b[0;32m~/anaconda3/lib/python3.6/site-packages/bs4/element.py\u001b[0m in \u001b[0;36m__getitem__\u001b[0;34m(self, key)\u001b[0m\n\u001b[1;32m   1009\u001b[0m         \"\"\"tag[key] returns the value of the 'key' attribute for the tag,\n\u001b[1;32m   1010\u001b[0m         and throws an exception if it's not there.\"\"\"\n\u001b[0;32m-> 1011\u001b[0;31m         \u001b[0;32mreturn\u001b[0m \u001b[0mself\u001b[0m\u001b[0;34m.\u001b[0m\u001b[0mattrs\u001b[0m\u001b[0;34m[\u001b[0m\u001b[0mkey\u001b[0m\u001b[0;34m]\u001b[0m\u001b[0;34m\u001b[0m\u001b[0m\n\u001b[0m\u001b[1;32m   1012\u001b[0m \u001b[0;34m\u001b[0m\u001b[0m\n\u001b[1;32m   1013\u001b[0m     \u001b[0;32mdef\u001b[0m \u001b[0m__iter__\u001b[0m\u001b[0;34m(\u001b[0m\u001b[0mself\u001b[0m\u001b[0;34m)\u001b[0m\u001b[0;34m:\u001b[0m\u001b[0;34m\u001b[0m\u001b[0m\n",
      "\u001b[0;31mTypeError\u001b[0m: unhashable type: 'slice'"
     ]
    }
   ],
   "source": [
    "soup = bs(res.content, 'lxml')\n",
    "soup"
   ]
  },
  {
   "cell_type": "markdown",
   "metadata": {},
   "source": [
    "### Step 2: Scrape the home page soup for every restaurant\n",
    "\n",
    "Note: Your best bet is to create a list of dictionaries, one for each restaurant. Each dictionary contains the restaurant's name and slug. The result of your scrape should look something like this:\n",
    "\n",
    "```python\n",
    "restaurants = [\n",
    "    {'name': 'A&W Restaurants', 'slug': 'aw-restaurants'}, \n",
    "    {'name': \"Applebee's\", 'slug': 'applebees'},\n",
    "    ...\n",
    "]\n",
    "```"
   ]
  },
  {
   "cell_type": "code",
   "execution_count": 6,
   "metadata": {
    "collapsed": true
   },
   "outputs": [
    {
     "name": "stdout",
     "output_type": "stream",
     "text": [
      "<div class=\"header\">\n",
      "<div class=\"container\">\n",
      "<div class=\"row\">\n",
      "<div class=\"col-md-3\">\n",
      "<a href=\"http://chubbygrub.com\"><img alt=\"\" border=\"0\" height=\"50\" src=\"http://chubbygrub.com/wp-content/themes/chubbygrub-2/images/logo_chubbygrub.png\" width=\"210\"/></a>\n",
      "</div><!--// .col-md-3 -->\n",
      "<div class=\"col-md-9\">\n",
      "<div class=\"menu-main-navigation-container\"><ul class=\"nav-pills nav pull-right\" id=\"menu-main-navigation\"><li class=\"menu-item menu-item-type-post_type menu-item-object-page menu-item-home current-menu-item page_item page-item-9 current_page_item menu-item-11\" id=\"menu-item-11\"><a href=\"http://chubbygrub.com/\">Home</a></li>\n",
      "<li class=\"menu-item menu-item-type-post_type menu-item-object-page menu-item-12\" id=\"menu-item-12\"><a href=\"http://chubbygrub.com/categories/\">Categories</a></li>\n",
      "<li class=\"menu-item menu-item-type-post_type menu-item-object-page menu-item-13\" id=\"menu-item-13\"><a href=\"http://chubbygrub.com/restaurants/\">Restaurants</a></li>\n",
      "</ul></div> </div><!--// .col-md-9 -->\n",
      "</div><!--// .row -->\n",
      "</div>\n",
      "</div>\n"
     ]
    }
   ],
   "source": [
    "restaurants_section = soup.find('div')\n",
    "print(restaurants_section)"
   ]
  },
  {
   "cell_type": "code",
   "execution_count": 7,
   "metadata": {
    "collapsed": true
   },
   "outputs": [
    {
     "name": "stdout",
     "output_type": "stream",
     "text": [
      "<div class=\"restaurant-buttons\">\n",
      "<br/>\n",
      "<br/>\n",
      "<br/>\n",
      "<br/>\n",
      "<br/>\n",
      "<br/>\n",
      "<div class=\"form-group has-warning\">\n",
      "<input autofocus=\"true\" class=\"form-control input-lg\" data-content=\"The results below will narrow down according to your search\" data-placement=\"top\" data-title=\"Type a Restaurant or Category\" id=\"restaurant-field\" placeholder=\"e.g. McDonald's\" type=\"text\"/>\n",
      "</div>\n",
      "<a class=\"btn btn-lg btn-primary\" href=\"/restaurants/aw-restaurants\">A&amp;W Restaurants</a> <a class=\"btn btn-lg btn-primary\" href=\"/restaurants/applebees\">Applebee's</a> <a class=\"btn btn-lg btn-primary\" href=\"/restaurants/arbys\">Arby's</a> <a class=\"btn btn-lg btn-primary\" href=\"/restaurants/atlanta-bread-company\">Atlanta Bread Company</a> <a class=\"btn btn-lg btn-primary\" href=\"/restaurants/bojangles-famous-chicken-n-biscuits\">Bojangle's Famous Chicken 'n Biscuits</a> <a class=\"btn btn-lg btn-primary\" href=\"/restaurants/buffalo-wild-wings\">Buffalo Wild Wings</a> <a class=\"btn btn-lg btn-primary\" href=\"/restaurants/burger-king\">Burger King</a> <a class=\"btn btn-lg btn-primary\" href=\"/restaurants/captain-ds\">Captain D's</a> <a class=\"btn btn-lg btn-primary\" href=\"/restaurants/carls-jr\">Carl's Jr.</a> <a class=\"btn btn-lg btn-primary\" href=\"/restaurants/charleys-grilled-subs\">Charley's Grilled Subs</a> <a class=\"btn btn-lg btn-primary\" href=\"/restaurants/chick-fil-a\">Chick-fil-A</a> <a class=\"btn btn-lg btn-primary\" href=\"/restaurants/chilis\">Chili's</a> <a class=\"btn btn-lg btn-primary\" href=\"/restaurants/chipotle-mexican-grill\">Chipotle Mexican Grill</a> <a class=\"btn btn-lg btn-primary\" href=\"/restaurants/churchs\">Church's</a> <a class=\"btn btn-lg btn-primary\" href=\"/restaurants/corner-bakery-cafe\">Corner Bakery Cafe</a> <a class=\"btn btn-lg btn-primary\" href=\"/restaurants/dairy-queen\">Dairy Queen</a> <a class=\"btn btn-lg btn-primary\" href=\"/restaurants/dennys\">Denny's</a> <a class=\"btn btn-lg btn-primary\" href=\"/restaurants/el-pollo-loco\">El Pollo Loco</a> <a class=\"btn btn-lg btn-primary\" href=\"/restaurants/fatz\">FATZ</a> <a class=\"btn btn-lg btn-primary\" href=\"/restaurants/fazolis\">Fazoli's</a> <a class=\"btn btn-lg btn-primary\" href=\"/restaurants/five-guys-burgers-and-fries\">Five Guys Burgers and Fries</a> <a class=\"btn btn-lg btn-primary\" href=\"/restaurants/golden-chick\">Golden Chick</a> <a class=\"btn btn-lg btn-primary\" href=\"/restaurants/hardees\">Hardee's</a> <a class=\"btn btn-lg btn-primary\" href=\"/restaurants/ihop\">IHOP</a> <a class=\"btn btn-lg btn-primary\" href=\"/restaurants/in-n-out-burger\">In-N-Out Burger</a> <a class=\"btn btn-lg btn-primary\" href=\"/restaurants/jack-in-the-box\">Jack in the Box</a> <a class=\"btn btn-lg btn-primary\" href=\"/restaurants/jimmy-johns\">Jimmy Johns</a> <a class=\"btn btn-lg btn-primary\" href=\"/restaurants/joes-crab-shack\">Joe's Crab Shack</a> <a class=\"btn btn-lg btn-primary\" href=\"/restaurants/kfc\">KFC</a> <a class=\"btn btn-lg btn-primary\" href=\"/restaurants/mcdonalds\">McDonald's</a> <a class=\"btn btn-lg btn-primary\" href=\"/restaurants/ocharleys\">O'Charley's</a> <a class=\"btn btn-lg btn-primary\" href=\"/restaurants/olive-garden\">Olive Garden</a> <a class=\"btn btn-lg btn-primary\" href=\"/restaurants/outback-steakhouse\">Outback Steakhouse</a> <a class=\"btn btn-lg btn-primary\" href=\"/restaurants/panda-express\">Panda Express</a> <a class=\"btn btn-lg btn-primary\" href=\"/restaurants/panera-bread\">Panera Bread</a> <a class=\"btn btn-lg btn-primary\" href=\"/restaurants/popeyes\">Popeye's</a> <a class=\"btn btn-lg btn-primary\" href=\"/restaurants/quiznos\">Quiznos</a> <a class=\"btn btn-lg btn-primary\" href=\"/restaurants/red-robin-gourmet-burgers\">Red Robin Gourmet Burgers</a> <a class=\"btn btn-lg btn-primary\" href=\"/restaurants/romanos-macaroni-grill\">Romano's Macaroni Grill</a> <a class=\"btn btn-lg btn-primary\" href=\"/restaurants/ruby-tuesday\">Ruby Tuesday</a> <a class=\"btn btn-lg btn-primary\" href=\"/restaurants/subway\">Subway</a> <a class=\"btn btn-lg btn-primary\" href=\"/restaurants/taco-bell\">Taco Bell</a> <a class=\"btn btn-lg btn-primary\" href=\"/restaurants/taco-bueno\">Taco Bueno</a> <a class=\"btn btn-lg btn-primary\" href=\"/restaurants/wendys\">Wendy's</a> </div>\n"
     ]
    }
   ],
   "source": [
    "restaurants_section = soup.find('div', {'class':'restaurant-buttons'})\n",
    "print(restaurants_section)"
   ]
  },
  {
   "cell_type": "code",
   "execution_count": 13,
   "metadata": {
    "collapsed": true
   },
   "outputs": [
    {
     "data": {
      "text/plain": [
       "[{'name': 'A&W Restaurants', 'slug': 'aw-restaurants'},\n",
       " {'name': \"Applebee's\", 'slug': 'applebees'},\n",
       " {'name': \"Arby's\", 'slug': 'arbys'},\n",
       " {'name': 'Atlanta Bread Company', 'slug': 'atlanta-bread-company'},\n",
       " {'name': \"Bojangle's Famous Chicken 'n Biscuits\",\n",
       "  'slug': 'bojangles-famous-chicken-n-biscuits'},\n",
       " {'name': 'Buffalo Wild Wings', 'slug': 'buffalo-wild-wings'},\n",
       " {'name': 'Burger King', 'slug': 'burger-king'},\n",
       " {'name': \"Captain D's\", 'slug': 'captain-ds'},\n",
       " {'name': \"Carl's Jr.\", 'slug': 'carls-jr'},\n",
       " {'name': \"Charley's Grilled Subs\", 'slug': 'charleys-grilled-subs'},\n",
       " {'name': 'Chick-fil-A', 'slug': 'chick-fil-a'},\n",
       " {'name': \"Chili's\", 'slug': 'chilis'},\n",
       " {'name': 'Chipotle Mexican Grill', 'slug': 'chipotle-mexican-grill'},\n",
       " {'name': \"Church's\", 'slug': 'churchs'},\n",
       " {'name': 'Corner Bakery Cafe', 'slug': 'corner-bakery-cafe'},\n",
       " {'name': 'Dairy Queen', 'slug': 'dairy-queen'},\n",
       " {'name': \"Denny's\", 'slug': 'dennys'},\n",
       " {'name': 'El Pollo Loco', 'slug': 'el-pollo-loco'},\n",
       " {'name': 'FATZ', 'slug': 'fatz'},\n",
       " {'name': \"Fazoli's\", 'slug': 'fazolis'},\n",
       " {'name': 'Five Guys Burgers and Fries',\n",
       "  'slug': 'five-guys-burgers-and-fries'},\n",
       " {'name': 'Golden Chick', 'slug': 'golden-chick'},\n",
       " {'name': \"Hardee's\", 'slug': 'hardees'},\n",
       " {'name': 'IHOP', 'slug': 'ihop'},\n",
       " {'name': 'In-N-Out Burger', 'slug': 'in-n-out-burger'},\n",
       " {'name': 'Jack in the Box', 'slug': 'jack-in-the-box'},\n",
       " {'name': 'Jimmy Johns', 'slug': 'jimmy-johns'},\n",
       " {'name': \"Joe's Crab Shack\", 'slug': 'joes-crab-shack'},\n",
       " {'name': 'KFC', 'slug': 'kfc'},\n",
       " {'name': \"McDonald's\", 'slug': 'mcdonalds'},\n",
       " {'name': \"O'Charley's\", 'slug': 'ocharleys'},\n",
       " {'name': 'Olive Garden', 'slug': 'olive-garden'},\n",
       " {'name': 'Outback Steakhouse', 'slug': 'outback-steakhouse'},\n",
       " {'name': 'Panda Express', 'slug': 'panda-express'},\n",
       " {'name': 'Panera Bread', 'slug': 'panera-bread'},\n",
       " {'name': \"Popeye's\", 'slug': 'popeyes'},\n",
       " {'name': 'Quiznos', 'slug': 'quiznos'},\n",
       " {'name': 'Red Robin Gourmet Burgers', 'slug': 'red-robin-gourmet-burgers'},\n",
       " {'name': \"Romano's Macaroni Grill\", 'slug': 'romanos-macaroni-grill'},\n",
       " {'name': 'Ruby Tuesday', 'slug': 'ruby-tuesday'},\n",
       " {'name': 'Subway', 'slug': 'subway'},\n",
       " {'name': 'Taco Bell', 'slug': 'taco-bell'},\n",
       " {'name': 'Taco Bueno', 'slug': 'taco-bueno'},\n",
       " {'name': \"Wendy's\", 'slug': 'wendys'}]"
      ]
     },
     "execution_count": 13,
     "metadata": {},
     "output_type": "execute_result"
    }
   ],
   "source": [
    "#def function():                         #Make a scraping function of some kind in future?\n",
    "restaurants = []\n",
    "for restaurant_link in restaurants_section.find_all('a',{'class': 'btn btn-lg btn-primary'}):\n",
    "    restaurant = {}                                             # Initiates dictionary\n",
    "    restaurant['name'] = restaurant_link.text                   # Adds the name of the restaurant\n",
    "    restaurant['slug'] = restaurant_link['href'].split('/')[-1] # Adds slug(?) from href(?)\n",
    "    restaurants.append(restaurant)\n",
    "\n",
    "restaurants"
   ]
  },
  {
   "cell_type": "code",
   "execution_count": 11,
   "metadata": {
    "collapsed": true
   },
   "outputs": [
    {
     "data": {
      "text/plain": [
       "[<a class=\"btn btn-lg btn-primary\" href=\"/restaurants/aw-restaurants\">A&amp;W Restaurants</a>,\n",
       " <a class=\"btn btn-lg btn-primary\" href=\"/restaurants/applebees\">Applebee's</a>,\n",
       " <a class=\"btn btn-lg btn-primary\" href=\"/restaurants/arbys\">Arby's</a>,\n",
       " <a class=\"btn btn-lg btn-primary\" href=\"/restaurants/atlanta-bread-company\">Atlanta Bread Company</a>,\n",
       " <a class=\"btn btn-lg btn-primary\" href=\"/restaurants/bojangles-famous-chicken-n-biscuits\">Bojangle's Famous Chicken 'n Biscuits</a>,\n",
       " <a class=\"btn btn-lg btn-primary\" href=\"/restaurants/buffalo-wild-wings\">Buffalo Wild Wings</a>,\n",
       " <a class=\"btn btn-lg btn-primary\" href=\"/restaurants/burger-king\">Burger King</a>,\n",
       " <a class=\"btn btn-lg btn-primary\" href=\"/restaurants/captain-ds\">Captain D's</a>,\n",
       " <a class=\"btn btn-lg btn-primary\" href=\"/restaurants/carls-jr\">Carl's Jr.</a>,\n",
       " <a class=\"btn btn-lg btn-primary\" href=\"/restaurants/charleys-grilled-subs\">Charley's Grilled Subs</a>,\n",
       " <a class=\"btn btn-lg btn-primary\" href=\"/restaurants/chick-fil-a\">Chick-fil-A</a>,\n",
       " <a class=\"btn btn-lg btn-primary\" href=\"/restaurants/chilis\">Chili's</a>,\n",
       " <a class=\"btn btn-lg btn-primary\" href=\"/restaurants/chipotle-mexican-grill\">Chipotle Mexican Grill</a>,\n",
       " <a class=\"btn btn-lg btn-primary\" href=\"/restaurants/churchs\">Church's</a>,\n",
       " <a class=\"btn btn-lg btn-primary\" href=\"/restaurants/corner-bakery-cafe\">Corner Bakery Cafe</a>,\n",
       " <a class=\"btn btn-lg btn-primary\" href=\"/restaurants/dairy-queen\">Dairy Queen</a>,\n",
       " <a class=\"btn btn-lg btn-primary\" href=\"/restaurants/dennys\">Denny's</a>,\n",
       " <a class=\"btn btn-lg btn-primary\" href=\"/restaurants/el-pollo-loco\">El Pollo Loco</a>,\n",
       " <a class=\"btn btn-lg btn-primary\" href=\"/restaurants/fatz\">FATZ</a>,\n",
       " <a class=\"btn btn-lg btn-primary\" href=\"/restaurants/fazolis\">Fazoli's</a>,\n",
       " <a class=\"btn btn-lg btn-primary\" href=\"/restaurants/five-guys-burgers-and-fries\">Five Guys Burgers and Fries</a>,\n",
       " <a class=\"btn btn-lg btn-primary\" href=\"/restaurants/golden-chick\">Golden Chick</a>,\n",
       " <a class=\"btn btn-lg btn-primary\" href=\"/restaurants/hardees\">Hardee's</a>,\n",
       " <a class=\"btn btn-lg btn-primary\" href=\"/restaurants/ihop\">IHOP</a>,\n",
       " <a class=\"btn btn-lg btn-primary\" href=\"/restaurants/in-n-out-burger\">In-N-Out Burger</a>,\n",
       " <a class=\"btn btn-lg btn-primary\" href=\"/restaurants/jack-in-the-box\">Jack in the Box</a>,\n",
       " <a class=\"btn btn-lg btn-primary\" href=\"/restaurants/jimmy-johns\">Jimmy Johns</a>,\n",
       " <a class=\"btn btn-lg btn-primary\" href=\"/restaurants/joes-crab-shack\">Joe's Crab Shack</a>,\n",
       " <a class=\"btn btn-lg btn-primary\" href=\"/restaurants/kfc\">KFC</a>,\n",
       " <a class=\"btn btn-lg btn-primary\" href=\"/restaurants/mcdonalds\">McDonald's</a>,\n",
       " <a class=\"btn btn-lg btn-primary\" href=\"/restaurants/ocharleys\">O'Charley's</a>,\n",
       " <a class=\"btn btn-lg btn-primary\" href=\"/restaurants/olive-garden\">Olive Garden</a>,\n",
       " <a class=\"btn btn-lg btn-primary\" href=\"/restaurants/outback-steakhouse\">Outback Steakhouse</a>,\n",
       " <a class=\"btn btn-lg btn-primary\" href=\"/restaurants/panda-express\">Panda Express</a>,\n",
       " <a class=\"btn btn-lg btn-primary\" href=\"/restaurants/panera-bread\">Panera Bread</a>,\n",
       " <a class=\"btn btn-lg btn-primary\" href=\"/restaurants/popeyes\">Popeye's</a>,\n",
       " <a class=\"btn btn-lg btn-primary\" href=\"/restaurants/quiznos\">Quiznos</a>,\n",
       " <a class=\"btn btn-lg btn-primary\" href=\"/restaurants/red-robin-gourmet-burgers\">Red Robin Gourmet Burgers</a>,\n",
       " <a class=\"btn btn-lg btn-primary\" href=\"/restaurants/romanos-macaroni-grill\">Romano's Macaroni Grill</a>,\n",
       " <a class=\"btn btn-lg btn-primary\" href=\"/restaurants/ruby-tuesday\">Ruby Tuesday</a>,\n",
       " <a class=\"btn btn-lg btn-primary\" href=\"/restaurants/subway\">Subway</a>,\n",
       " <a class=\"btn btn-lg btn-primary\" href=\"/restaurants/taco-bell\">Taco Bell</a>,\n",
       " <a class=\"btn btn-lg btn-primary\" href=\"/restaurants/taco-bueno\">Taco Bueno</a>,\n",
       " <a class=\"btn btn-lg btn-primary\" href=\"/restaurants/wendys\">Wendy's</a>]"
      ]
     },
     "execution_count": 11,
     "metadata": {},
     "output_type": "execute_result"
    }
   ],
   "source": [
    "restaurants_section.find_all('a',{'class': 'btn btn-lg btn-primary'})"
   ]
  },
  {
   "cell_type": "code",
   "execution_count": null,
   "metadata": {},
   "outputs": [],
   "source": []
  },
  {
   "cell_type": "markdown",
   "metadata": {},
   "source": [
    "### Step 3: Using the slug, scrape each restaurant's page and create a single list of food dictionaries.\n",
    "\n",
    "Your list of foods should look something like this:\n",
    "```python\n",
    "foods = [\n",
    "    {\n",
    "        'calories': '0',\n",
    "        'carbs': '0',\n",
    "        'category': 'Drinks',\n",
    "        'fat': '0',\n",
    "        'name': 'A&W® Diet Root Beer',\n",
    "        'restaurant': 'A&W Restaurants'\n",
    "    },\n",
    "    {\n",
    "        'calories': '0',\n",
    "        'carbs': '0',\n",
    "        'category': 'Drinks',\n",
    "        'fat': '0',\n",
    "        'name': 'A&W® Diet Root Beer',\n",
    "        'restaurant': 'A&W Restaurants'\n",
    "    },\n",
    "    ...\n",
    "]\n",
    "```\n",
    "\n",
    "**Note**: Remove extra white space from each category"
   ]
  },
  {
   "cell_type": "code",
   "execution_count": 21,
   "metadata": {},
   "outputs": [
    {
     "name": "stdout",
     "output_type": "stream",
     "text": [
      "Scraping:  A&W Restaurants\n",
      "Scraping:  Applebee's\n",
      "Scraping:  Arby's\n",
      "Scraping:  Atlanta Bread Company\n",
      "Scraping:  Bojangle's Famous Chicken 'n Biscuits\n",
      "Scraping:  Buffalo Wild Wings\n",
      "Scraping:  Burger King\n",
      "Scraping:  Captain D's\n",
      "Scraping:  Carl's Jr.\n",
      "Scraping:  Charley's Grilled Subs\n",
      "Scraping:  Chick-fil-A\n",
      "Scraping:  Chili's\n",
      "Scraping:  Chipotle Mexican Grill\n",
      "Scraping:  Church's\n",
      "Scraping:  Corner Bakery Cafe\n",
      "Scraping:  Dairy Queen\n",
      "Scraping:  Denny's\n",
      "Scraping:  El Pollo Loco\n",
      "Scraping:  FATZ\n",
      "Scraping:  Fazoli's\n",
      "Scraping:  Five Guys Burgers and Fries\n",
      "Scraping:  Golden Chick\n",
      "Scraping:  Hardee's\n",
      "Scraping:  IHOP\n",
      "Scraping:  In-N-Out Burger\n",
      "Scraping:  Jack in the Box\n",
      "Scraping:  Jimmy Johns\n",
      "Scraping:  Joe's Crab Shack\n",
      "Scraping:  KFC\n",
      "Scraping:  McDonald's\n",
      "Scraping:  O'Charley's\n",
      "Scraping:  Olive Garden\n",
      "Scraping:  Outback Steakhouse\n",
      "Scraping:  Panda Express\n",
      "Scraping:  Panera Bread\n",
      "Scraping:  Popeye's\n",
      "Scraping:  Quiznos\n",
      "Scraping:  Red Robin Gourmet Burgers\n",
      "Scraping:  Romano's Macaroni Grill\n",
      "Scraping:  Ruby Tuesday\n",
      "Scraping:  Subway\n",
      "Scraping:  Taco Bell\n",
      "Scraping:  Taco Bueno\n",
      "Scraping:  Wendy's\n"
     ]
    }
   ],
   "source": [
    "foods = []                   # Init empty list\n",
    "for restaurant in restaurants: # for loop for each name and slug\n",
    "    print('Scraping: ', restaurant['name']) # Print current restaurant\n",
    "    restaurant_res = requests.get('http://chubbygrub.com/restaurants/{}'.format(restaurant['slug'])) #Get request for each restaurant with dis list sitch\n",
    "    restaurant_soup = bs(restaurant_res.content, 'lxml') # Init Soup\n",
    "    table = restaurant_soup.find('table', {'id': 'items'}) # NAb the food tables\n",
    "    for row in table.find('tbody').find_all('tr'):  #Looping through each row\n",
    "        cells = row.find_all('td') # Creating variable for <td/>\n",
    "        food = {} # Init Dict\n",
    "        food['restaurant'] = restaurant['name']    # These are all adding the thing...\n",
    "        food['name']       = cells[0].text         # that you'd think they're adding\n",
    "        food['category']   = cells[1].text.strip() # .strip() is removing white space\n",
    "        food['calories']   = cells[2].text\n",
    "        food['fat']        = cells[3].text\n",
    "        food['carbs']      = cells[4].text\n",
    "        foods.append(food)"
   ]
  },
  {
   "cell_type": "markdown",
   "metadata": {},
   "source": [
    "### Step 4: Create a pandas DataFrame from your list of foods\n",
    "\n",
    "**Note**: Your DataFrame should have 4,977 rows"
   ]
  },
  {
   "cell_type": "code",
   "execution_count": 25,
   "metadata": {},
   "outputs": [
    {
     "name": "stdout",
     "output_type": "stream",
     "text": [
      "(4977, 6)\n"
     ]
    },
    {
     "data": {
      "text/html": [
       "<div>\n",
       "<style scoped>\n",
       "    .dataframe tbody tr th:only-of-type {\n",
       "        vertical-align: middle;\n",
       "    }\n",
       "\n",
       "    .dataframe tbody tr th {\n",
       "        vertical-align: top;\n",
       "    }\n",
       "\n",
       "    .dataframe thead th {\n",
       "        text-align: right;\n",
       "    }\n",
       "</style>\n",
       "<table border=\"1\" class=\"dataframe\">\n",
       "  <thead>\n",
       "    <tr style=\"text-align: right;\">\n",
       "      <th></th>\n",
       "      <th>calories</th>\n",
       "      <th>carbs</th>\n",
       "      <th>category</th>\n",
       "      <th>fat</th>\n",
       "      <th>name</th>\n",
       "      <th>restaurant</th>\n",
       "    </tr>\n",
       "  </thead>\n",
       "  <tbody>\n",
       "    <tr>\n",
       "      <th>0</th>\n",
       "      <td>0</td>\n",
       "      <td>0</td>\n",
       "      <td>Drinks</td>\n",
       "      <td>0</td>\n",
       "      <td>A&amp;W® Diet Root Beer</td>\n",
       "      <td>A&amp;W Restaurants</td>\n",
       "    </tr>\n",
       "    <tr>\n",
       "      <th>1</th>\n",
       "      <td>0</td>\n",
       "      <td>0</td>\n",
       "      <td>Drinks</td>\n",
       "      <td>0</td>\n",
       "      <td>A&amp;W® Diet Root Beer</td>\n",
       "      <td>A&amp;W Restaurants</td>\n",
       "    </tr>\n",
       "    <tr>\n",
       "      <th>2</th>\n",
       "      <td>0</td>\n",
       "      <td>0</td>\n",
       "      <td>Drinks</td>\n",
       "      <td>0</td>\n",
       "      <td>A&amp;W® Diet Root Beer</td>\n",
       "      <td>A&amp;W Restaurants</td>\n",
       "    </tr>\n",
       "    <tr>\n",
       "      <th>3</th>\n",
       "      <td>0</td>\n",
       "      <td>0</td>\n",
       "      <td>Drinks</td>\n",
       "      <td>0</td>\n",
       "      <td>A&amp;W® Diet Root Beer</td>\n",
       "      <td>A&amp;W Restaurants</td>\n",
       "    </tr>\n",
       "    <tr>\n",
       "      <th>4</th>\n",
       "      <td>0</td>\n",
       "      <td>0</td>\n",
       "      <td>Drinks</td>\n",
       "      <td>0</td>\n",
       "      <td>A&amp;W® Diet Root Beer</td>\n",
       "      <td>A&amp;W Restaurants</td>\n",
       "    </tr>\n",
       "  </tbody>\n",
       "</table>\n",
       "</div>"
      ],
      "text/plain": [
       "  calories carbs category fat                 name       restaurant\n",
       "0        0     0   Drinks   0  A&W® Diet Root Beer  A&W Restaurants\n",
       "1        0     0   Drinks   0  A&W® Diet Root Beer  A&W Restaurants\n",
       "2        0     0   Drinks   0  A&W® Diet Root Beer  A&W Restaurants\n",
       "3        0     0   Drinks   0  A&W® Diet Root Beer  A&W Restaurants\n",
       "4        0     0   Drinks   0  A&W® Diet Root Beer  A&W Restaurants"
      ]
     },
     "execution_count": 25,
     "metadata": {},
     "output_type": "execute_result"
    }
   ],
   "source": [
    "df = pd.DataFrame(foods)\n",
    "print(df.shape)\n",
    "df.head()"
   ]
  },
  {
   "cell_type": "markdown",
   "metadata": {},
   "source": [
    "### Step 5: Export to csv\n",
    "\n",
    "**Note:** Don't export the index column from your DataFrame"
   ]
  },
  {
   "cell_type": "code",
   "execution_count": 27,
   "metadata": {},
   "outputs": [],
   "source": [
    "df.to_csv('./fast_foods_10.11.2018', index=False)"
   ]
  }
 ],
 "metadata": {
  "kernelspec": {
   "display_name": "Python 3",
   "language": "python",
   "name": "python3"
  },
  "language_info": {
   "codemirror_mode": {
    "name": "ipython",
    "version": 3
   },
   "file_extension": ".py",
   "mimetype": "text/x-python",
   "name": "python",
   "nbconvert_exporter": "python",
   "pygments_lexer": "ipython3",
   "version": "3.7.0"
  }
 },
 "nbformat": 4,
 "nbformat_minor": 2
}
