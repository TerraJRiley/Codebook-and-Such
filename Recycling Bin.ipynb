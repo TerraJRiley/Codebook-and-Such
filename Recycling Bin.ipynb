{
 "cells": [
  {
   "cell_type": "code",
   "execution_count": null,
   "metadata": {},
   "outputs": [],
   "source": [
    "# Plug & Play White Model Classification\n",
    "# Plug & Play Black Classification\n",
    "# Neural Net Classification"
   ]
  },
  {
   "cell_type": "code",
   "execution_count": null,
   "metadata": {},
   "outputs": [],
   "source": [
    "models     = [\n",
    "    #log_class,\n",
    "    knn_class,\n",
    "    cart_class,\n",
    "    bag_class,\n",
    "    randf_class,\n",
    "    ada_class,\n",
    "    SV_class    \n",
    "]"
   ]
  },
  {
   "cell_type": "code",
   "execution_count": null,
   "metadata": {},
   "outputs": [],
   "source": [
    "def scoring(model, \n",
    "               X_train = X_train,\n",
    "               X_test = X_test,\n",
    "               y_train = y_train,\n",
    "               y_test = y_test):\n",
    "    print(\"Train:\" + str(model.predict(X_train,\n",
    "                                       y_train)))\n",
    "    print(\"Test :\" + str(model.predict(X_test, y_test)))\n",
    "    print('')\n",
    "    return"
   ]
  },
  {
   "cell_type": "code",
   "execution_count": null,
   "metadata": {},
   "outputs": [],
   "source": [
    "for model in models:\n",
    "    scoring(model)"
   ]
  },
  {
   "cell_type": "code",
   "execution_count": null,
   "metadata": {},
   "outputs": [],
   "source": [
    "test_dfs = [cvec_LaRon_Readus, \n",
    "            cvec_Maggie_Mae_Fish, \n",
    "            cvec_MovieBob, \n",
    "            cvec_NerdSync] \n",
    "            #cvec_Super_Bunnyhop, \n",
    "            #cvec_The_Gaming_Brit_Show]\n",
    "cvec_classes_data = pd.concat(test_dfs, \n",
    "                        sort = True).fillna(0).apply(lambda x: x.astype(int)).reset_index(inplace=True)"
   ]
  }
 ],
 "metadata": {
  "kernelspec": {
   "display_name": "Python [conda env:dsi]",
   "language": "python",
   "name": "conda-env-dsi-py"
  },
  "language_info": {
   "codemirror_mode": {
    "name": "ipython",
    "version": 3
   },
   "file_extension": ".py",
   "mimetype": "text/x-python",
   "name": "python",
   "nbconvert_exporter": "python",
   "pygments_lexer": "ipython3",
   "version": "3.6.5"
  }
 },
 "nbformat": 4,
 "nbformat_minor": 2
}
